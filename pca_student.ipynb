{
 "cells": [
  {
   "cell_type": "code",
   "execution_count": 1,
   "metadata": {},
   "outputs": [],
   "source": [
    "import numpy as np"
   ]
  },
  {
   "cell_type": "code",
   "execution_count": 2,
   "metadata": {},
   "outputs": [],
   "source": [
    "from sklearn.decomposition import PCA"
   ]
  },
  {
   "cell_type": "code",
   "execution_count": 3,
   "metadata": {},
   "outputs": [],
   "source": [
    "X = np.array([[-1, -1], [-2, -1], [-3, -2], [1, 1], [2, 1], [3, 2]])"
   ]
  },
  {
   "cell_type": "code",
   "execution_count": 4,
   "metadata": {},
   "outputs": [],
   "source": [
    "pca = PCA(n_components=2)"
   ]
  },
  {
   "cell_type": "code",
   "execution_count": 5,
   "metadata": {},
   "outputs": [
    {
     "data": {
      "text/plain": [
       "PCA(n_components=2)"
      ]
     },
     "execution_count": 5,
     "metadata": {},
     "output_type": "execute_result"
    }
   ],
   "source": [
    "pca.fit(X)"
   ]
  },
  {
   "cell_type": "code",
   "execution_count": 7,
   "metadata": {},
   "outputs": [
    {
     "name": "stdout",
     "output_type": "stream",
     "text": [
      "[6.30061232 0.54980396]\n"
     ]
    }
   ],
   "source": [
    "print(pca.singular_values_)"
   ]
  },
  {
   "cell_type": "code",
   "execution_count": 8,
   "metadata": {},
   "outputs": [
    {
     "name": "stdout",
     "output_type": "stream",
     "text": [
      "[0.99244289 0.00755711]\n"
     ]
    }
   ],
   "source": [
    "print(pca.explained_variance_ratio_)"
   ]
  },
  {
   "cell_type": "markdown",
   "metadata": {},
   "source": [
    "- 读取所有人脸图片，按照命名规则获得label\n",
    "- 将所有图片转换为灰度图像，并缩放成相同大小，组成[n,128,128]的数组\n",
    "- 对该数组应用PCA算法进行降维处理\n",
    "- 将PCA降维后数据与label分为训练集和验证集\n",
    "- 对该数据使用SVM和MLP进行分类，测试验证集的准确性"
   ]
  },
  {
   "cell_type": "code",
   "execution_count": null,
   "metadata": {},
   "outputs": [],
   "source": []
  },
  {
   "cell_type": "code",
   "execution_count": null,
   "metadata": {},
   "outputs": [],
   "source": []
  },
  {
   "cell_type": "code",
   "execution_count": null,
   "metadata": {},
   "outputs": [],
   "source": []
  },
  {
   "cell_type": "code",
   "execution_count": null,
   "metadata": {},
   "outputs": [],
   "source": []
  },
  {
   "cell_type": "code",
   "execution_count": 23,
   "metadata": {},
   "outputs": [],
   "source": [
    "import os\n",
    "import cv2\n",
    "import sys\n",
    "import pandas as pd\n",
    "import numpy as np\n",
    "from sklearn.decomposition import PCA\n",
    "from sklearn.neural_network import MLPClassifier\n",
    "from sklearn.pipeline import make_pipeline\n",
    "from sklearn.svm import SVC\n",
    "from sklearn.metrics import precision_score\n",
    "import matplotlib.pyplot as plt"
   ]
  },
  {
   "cell_type": "code",
   "execution_count": 2,
   "metadata": {},
   "outputs": [],
   "source": [
    "path1 = \"E:\\\\code\\\\jupyter\\\\facedata\" #文件夹目录\n",
    "files1 = os.listdir(path1) #得到文件夹下的所有文件名称\n",
    "labels = []\n",
    "for file in files1: #遍历文件夹\n",
    "    labels.append(file) #每个文件的文本存到list中\n",
    "\n",
    "j = 0\n",
    "dataname = []\n",
    "for i in range(0, 82):\n",
    "    path2 = path1 + '\\\\' + labels[i] + '\\\\'\n",
    "    files2 = os.listdir(path2)\n",
    "    for file in files2:#获取每个人的图片\n",
    "        path3 = path2 + file\n",
    "        dataname.append(path3)#dataname是所有图片的路径\n",
    "        j = j + 1"
   ]
  },
  {
   "cell_type": "code",
   "execution_count": 3,
   "metadata": {},
   "outputs": [],
   "source": [
    "images = []\n",
    "labels = []\n",
    "for index,face in enumerate(dataname):\n",
    "    image = cv2.imread(face, cv2.IMREAD_GRAYSCALE)\n",
    "    image = cv2.resize(image, (128, 128))#image是一个128*128的矩阵\n",
    "    images.append(image)\n",
    "    labels.append(int(index))\n",
    "    \n",
    "for i in range(246):\n",
    "    labels[i] = int(labels[i]/3)#将图像每三个分为一组"
   ]
  },
  {
   "cell_type": "code",
   "execution_count": 4,
   "metadata": {},
   "outputs": [
    {
     "name": "stdout",
     "output_type": "stream",
     "text": [
      "(16384,)\n"
     ]
    }
   ],
   "source": [
    "# 图像数据转换特征矩阵\n",
    "image_data = []\n",
    "for image in images:\n",
    "    data = image.flatten()\n",
    "    image_data.append(data)\n",
    "print(image_data[0].shape)"
   ]
  },
  {
   "cell_type": "code",
   "execution_count": 5,
   "metadata": {},
   "outputs": [
    {
     "name": "stdout",
     "output_type": "stream",
     "text": [
      "<class 'numpy.ndarray'>\n",
      "(246, 16384)\n"
     ]
    }
   ],
   "source": [
    "# 转换为numpy数组\n",
    "X = np.array(image_data)\n",
    "y = np.array(labels)\n",
    "print(type(X))\n",
    "print(X.shape)"
   ]
  },
  {
   "cell_type": "code",
   "execution_count": 6,
   "metadata": {},
   "outputs": [
    {
     "data": {
      "text/html": [
       "<div>\n",
       "<style scoped>\n",
       "    .dataframe tbody tr th:only-of-type {\n",
       "        vertical-align: middle;\n",
       "    }\n",
       "\n",
       "    .dataframe tbody tr th {\n",
       "        vertical-align: top;\n",
       "    }\n",
       "\n",
       "    .dataframe thead th {\n",
       "        text-align: right;\n",
       "    }\n",
       "</style>\n",
       "<table border=\"1\" class=\"dataframe\">\n",
       "  <thead>\n",
       "    <tr style=\"text-align: right;\">\n",
       "      <th></th>\n",
       "      <th>0</th>\n",
       "      <th>1</th>\n",
       "      <th>2</th>\n",
       "      <th>3</th>\n",
       "      <th>4</th>\n",
       "      <th>5</th>\n",
       "      <th>6</th>\n",
       "      <th>7</th>\n",
       "      <th>8</th>\n",
       "      <th>9</th>\n",
       "      <th>...</th>\n",
       "      <th>16374</th>\n",
       "      <th>16375</th>\n",
       "      <th>16376</th>\n",
       "      <th>16377</th>\n",
       "      <th>16378</th>\n",
       "      <th>16379</th>\n",
       "      <th>16380</th>\n",
       "      <th>16381</th>\n",
       "      <th>16382</th>\n",
       "      <th>16383</th>\n",
       "    </tr>\n",
       "  </thead>\n",
       "  <tbody>\n",
       "    <tr>\n",
       "      <th>0</th>\n",
       "      <td>245</td>\n",
       "      <td>245</td>\n",
       "      <td>245</td>\n",
       "      <td>245</td>\n",
       "      <td>245</td>\n",
       "      <td>244</td>\n",
       "      <td>243</td>\n",
       "      <td>246</td>\n",
       "      <td>246</td>\n",
       "      <td>246</td>\n",
       "      <td>...</td>\n",
       "      <td>85</td>\n",
       "      <td>88</td>\n",
       "      <td>89</td>\n",
       "      <td>88</td>\n",
       "      <td>87</td>\n",
       "      <td>86</td>\n",
       "      <td>87</td>\n",
       "      <td>88</td>\n",
       "      <td>86</td>\n",
       "      <td>83</td>\n",
       "    </tr>\n",
       "    <tr>\n",
       "      <th>1</th>\n",
       "      <td>221</td>\n",
       "      <td>223</td>\n",
       "      <td>225</td>\n",
       "      <td>226</td>\n",
       "      <td>226</td>\n",
       "      <td>228</td>\n",
       "      <td>232</td>\n",
       "      <td>235</td>\n",
       "      <td>238</td>\n",
       "      <td>240</td>\n",
       "      <td>...</td>\n",
       "      <td>70</td>\n",
       "      <td>69</td>\n",
       "      <td>64</td>\n",
       "      <td>85</td>\n",
       "      <td>79</td>\n",
       "      <td>82</td>\n",
       "      <td>88</td>\n",
       "      <td>91</td>\n",
       "      <td>93</td>\n",
       "      <td>94</td>\n",
       "    </tr>\n",
       "    <tr>\n",
       "      <th>2</th>\n",
       "      <td>203</td>\n",
       "      <td>202</td>\n",
       "      <td>203</td>\n",
       "      <td>202</td>\n",
       "      <td>202</td>\n",
       "      <td>201</td>\n",
       "      <td>199</td>\n",
       "      <td>201</td>\n",
       "      <td>200</td>\n",
       "      <td>201</td>\n",
       "      <td>...</td>\n",
       "      <td>54</td>\n",
       "      <td>44</td>\n",
       "      <td>55</td>\n",
       "      <td>40</td>\n",
       "      <td>36</td>\n",
       "      <td>58</td>\n",
       "      <td>47</td>\n",
       "      <td>43</td>\n",
       "      <td>29</td>\n",
       "      <td>56</td>\n",
       "    </tr>\n",
       "    <tr>\n",
       "      <th>3</th>\n",
       "      <td>75</td>\n",
       "      <td>76</td>\n",
       "      <td>77</td>\n",
       "      <td>76</td>\n",
       "      <td>74</td>\n",
       "      <td>77</td>\n",
       "      <td>78</td>\n",
       "      <td>78</td>\n",
       "      <td>78</td>\n",
       "      <td>76</td>\n",
       "      <td>...</td>\n",
       "      <td>20</td>\n",
       "      <td>20</td>\n",
       "      <td>20</td>\n",
       "      <td>20</td>\n",
       "      <td>20</td>\n",
       "      <td>17</td>\n",
       "      <td>13</td>\n",
       "      <td>14</td>\n",
       "      <td>13</td>\n",
       "      <td>15</td>\n",
       "    </tr>\n",
       "    <tr>\n",
       "      <th>4</th>\n",
       "      <td>68</td>\n",
       "      <td>70</td>\n",
       "      <td>66</td>\n",
       "      <td>67</td>\n",
       "      <td>68</td>\n",
       "      <td>69</td>\n",
       "      <td>69</td>\n",
       "      <td>69</td>\n",
       "      <td>70</td>\n",
       "      <td>71</td>\n",
       "      <td>...</td>\n",
       "      <td>17</td>\n",
       "      <td>20</td>\n",
       "      <td>17</td>\n",
       "      <td>18</td>\n",
       "      <td>18</td>\n",
       "      <td>20</td>\n",
       "      <td>20</td>\n",
       "      <td>23</td>\n",
       "      <td>21</td>\n",
       "      <td>20</td>\n",
       "    </tr>\n",
       "    <tr>\n",
       "      <th>...</th>\n",
       "      <td>...</td>\n",
       "      <td>...</td>\n",
       "      <td>...</td>\n",
       "      <td>...</td>\n",
       "      <td>...</td>\n",
       "      <td>...</td>\n",
       "      <td>...</td>\n",
       "      <td>...</td>\n",
       "      <td>...</td>\n",
       "      <td>...</td>\n",
       "      <td>...</td>\n",
       "      <td>...</td>\n",
       "      <td>...</td>\n",
       "      <td>...</td>\n",
       "      <td>...</td>\n",
       "      <td>...</td>\n",
       "      <td>...</td>\n",
       "      <td>...</td>\n",
       "      <td>...</td>\n",
       "      <td>...</td>\n",
       "      <td>...</td>\n",
       "    </tr>\n",
       "    <tr>\n",
       "      <th>241</th>\n",
       "      <td>255</td>\n",
       "      <td>255</td>\n",
       "      <td>255</td>\n",
       "      <td>255</td>\n",
       "      <td>255</td>\n",
       "      <td>255</td>\n",
       "      <td>255</td>\n",
       "      <td>255</td>\n",
       "      <td>255</td>\n",
       "      <td>255</td>\n",
       "      <td>...</td>\n",
       "      <td>49</td>\n",
       "      <td>48</td>\n",
       "      <td>49</td>\n",
       "      <td>47</td>\n",
       "      <td>48</td>\n",
       "      <td>45</td>\n",
       "      <td>44</td>\n",
       "      <td>44</td>\n",
       "      <td>42</td>\n",
       "      <td>40</td>\n",
       "    </tr>\n",
       "    <tr>\n",
       "      <th>242</th>\n",
       "      <td>160</td>\n",
       "      <td>154</td>\n",
       "      <td>155</td>\n",
       "      <td>157</td>\n",
       "      <td>157</td>\n",
       "      <td>155</td>\n",
       "      <td>154</td>\n",
       "      <td>146</td>\n",
       "      <td>146</td>\n",
       "      <td>151</td>\n",
       "      <td>...</td>\n",
       "      <td>96</td>\n",
       "      <td>101</td>\n",
       "      <td>94</td>\n",
       "      <td>95</td>\n",
       "      <td>92</td>\n",
       "      <td>85</td>\n",
       "      <td>102</td>\n",
       "      <td>93</td>\n",
       "      <td>95</td>\n",
       "      <td>88</td>\n",
       "    </tr>\n",
       "    <tr>\n",
       "      <th>243</th>\n",
       "      <td>251</td>\n",
       "      <td>251</td>\n",
       "      <td>250</td>\n",
       "      <td>251</td>\n",
       "      <td>251</td>\n",
       "      <td>251</td>\n",
       "      <td>251</td>\n",
       "      <td>251</td>\n",
       "      <td>251</td>\n",
       "      <td>251</td>\n",
       "      <td>...</td>\n",
       "      <td>123</td>\n",
       "      <td>121</td>\n",
       "      <td>123</td>\n",
       "      <td>133</td>\n",
       "      <td>141</td>\n",
       "      <td>146</td>\n",
       "      <td>146</td>\n",
       "      <td>153</td>\n",
       "      <td>153</td>\n",
       "      <td>155</td>\n",
       "    </tr>\n",
       "    <tr>\n",
       "      <th>244</th>\n",
       "      <td>150</td>\n",
       "      <td>150</td>\n",
       "      <td>150</td>\n",
       "      <td>150</td>\n",
       "      <td>148</td>\n",
       "      <td>151</td>\n",
       "      <td>149</td>\n",
       "      <td>150</td>\n",
       "      <td>150</td>\n",
       "      <td>149</td>\n",
       "      <td>...</td>\n",
       "      <td>124</td>\n",
       "      <td>125</td>\n",
       "      <td>123</td>\n",
       "      <td>115</td>\n",
       "      <td>103</td>\n",
       "      <td>104</td>\n",
       "      <td>111</td>\n",
       "      <td>122</td>\n",
       "      <td>132</td>\n",
       "      <td>130</td>\n",
       "    </tr>\n",
       "    <tr>\n",
       "      <th>245</th>\n",
       "      <td>253</td>\n",
       "      <td>253</td>\n",
       "      <td>253</td>\n",
       "      <td>253</td>\n",
       "      <td>253</td>\n",
       "      <td>253</td>\n",
       "      <td>253</td>\n",
       "      <td>253</td>\n",
       "      <td>253</td>\n",
       "      <td>253</td>\n",
       "      <td>...</td>\n",
       "      <td>232</td>\n",
       "      <td>233</td>\n",
       "      <td>232</td>\n",
       "      <td>231</td>\n",
       "      <td>231</td>\n",
       "      <td>233</td>\n",
       "      <td>233</td>\n",
       "      <td>234</td>\n",
       "      <td>235</td>\n",
       "      <td>236</td>\n",
       "    </tr>\n",
       "  </tbody>\n",
       "</table>\n",
       "<p>246 rows × 16384 columns</p>\n",
       "</div>"
      ],
      "text/plain": [
       "     0      1      2      3      4      5      6      7      8      9      \\\n",
       "0      245    245    245    245    245    244    243    246    246    246   \n",
       "1      221    223    225    226    226    228    232    235    238    240   \n",
       "2      203    202    203    202    202    201    199    201    200    201   \n",
       "3       75     76     77     76     74     77     78     78     78     76   \n",
       "4       68     70     66     67     68     69     69     69     70     71   \n",
       "..     ...    ...    ...    ...    ...    ...    ...    ...    ...    ...   \n",
       "241    255    255    255    255    255    255    255    255    255    255   \n",
       "242    160    154    155    157    157    155    154    146    146    151   \n",
       "243    251    251    250    251    251    251    251    251    251    251   \n",
       "244    150    150    150    150    148    151    149    150    150    149   \n",
       "245    253    253    253    253    253    253    253    253    253    253   \n",
       "\n",
       "     ...  16374  16375  16376  16377  16378  16379  16380  16381  16382  16383  \n",
       "0    ...     85     88     89     88     87     86     87     88     86     83  \n",
       "1    ...     70     69     64     85     79     82     88     91     93     94  \n",
       "2    ...     54     44     55     40     36     58     47     43     29     56  \n",
       "3    ...     20     20     20     20     20     17     13     14     13     15  \n",
       "4    ...     17     20     17     18     18     20     20     23     21     20  \n",
       "..   ...    ...    ...    ...    ...    ...    ...    ...    ...    ...    ...  \n",
       "241  ...     49     48     49     47     48     45     44     44     42     40  \n",
       "242  ...     96    101     94     95     92     85    102     93     95     88  \n",
       "243  ...    123    121    123    133    141    146    146    153    153    155  \n",
       "244  ...    124    125    123    115    103    104    111    122    132    130  \n",
       "245  ...    232    233    232    231    231    233    233    234    235    236  \n",
       "\n",
       "[246 rows x 16384 columns]"
      ]
     },
     "execution_count": 6,
     "metadata": {},
     "output_type": "execute_result"
    }
   ],
   "source": [
    "# 画出特征矩阵\n",
    "data = pd.DataFrame(X)\n",
    "data"
   ]
  },
  {
   "cell_type": "code",
   "execution_count": 7,
   "metadata": {},
   "outputs": [],
   "source": [
    "#划分训练集和测试集\n",
    "x1 = []\n",
    "y1 = []\n",
    "x2 = []\n",
    "y2 = []\n",
    "for i in range(246):\n",
    "    if i%3 != 0:\n",
    "        x1.append(X[i])\n",
    "        y1.append(y[i])\n",
    "    else:\n",
    "        x2.append(X[i])\n",
    "        y2.append(y[i])\n",
    "        \n",
    "x_train = np.array(x1)\n",
    "y_train = np.array(y1)\n",
    "x_test = np.array(x2)\n",
    "y_test = np.array(y2)"
   ]
  },
  {
   "cell_type": "code",
   "execution_count": 8,
   "metadata": {},
   "outputs": [
    {
     "name": "stdout",
     "output_type": "stream",
     "text": [
      "(164, 16384)\n",
      "(164,)\n",
      "(82, 16384)\n",
      "(82,)\n"
     ]
    }
   ],
   "source": [
    "print(x_train.shape, y_train.shape, x_test.shape, y_test.shape, sep = '\\n')"
   ]
  },
  {
   "cell_type": "code",
   "execution_count": 24,
   "metadata": {},
   "outputs": [
    {
     "data": {
      "image/png": "[encoded data removed]",
      "text/plain": [
       "<Figure size 432x288 with 1 Axes>"
      ]
     },
     "metadata": {
      "needs_background": "light"
     },
     "output_type": "display_data"
    }
   ],
   "source": [
    "# 画出特征个数和所携带信息数的曲线图\n",
    "explained_variance_ratio = []\n",
    "for i in range(1,151): \n",
    "    pca = PCA(n_components=i).fit(X)\n",
    "    explained_variance_ratio.append(pca.explained_variance_ratio_.sum())\n",
    "plt.plot(range(1,151),explained_variance_ratio)\n",
    "plt.show()"
   ]
  },
  {
   "cell_type": "code",
   "execution_count": 35,
   "metadata": {},
   "outputs": [
    {
     "data": {
      "text/plain": [
       "PCA(n_components=100)"
      ]
     },
     "execution_count": 35,
     "metadata": {},
     "output_type": "execute_result"
    }
   ],
   "source": [
    "# 训练PCA模型\n",
    "pca1 = PCA(n_components = 20)\n",
    "pca2 = PCA(n_components = 40)\n",
    "pca3 = PCA(n_components = 60)\n",
    "pca4 = PCA(n_components = 80)\n",
    "pca5 = PCA(n_components = 100)\n",
    "pca1.fit(X)\n",
    "pca2.fit(X)\n",
    "pca3.fit(X)\n",
    "pca4.fit(X)\n",
    "pca5.fit(X)"
   ]
  },
  {
   "cell_type": "code",
   "execution_count": 37,
   "metadata": {},
   "outputs": [
    {
     "data": {
      "text/plain": [
       "PCA(n_components=20)"
      ]
     },
     "execution_count": 37,
     "metadata": {},
     "output_type": "execute_result"
    }
   ],
   "source": [
    "pca1.fit(X)"
   ]
  },
  {
   "cell_type": "code",
   "execution_count": 38,
   "metadata": {},
   "outputs": [
    {
     "name": "stdout",
     "output_type": "stream",
     "text": [
      "(164, 20)\n",
      "(82, 20)\n"
     ]
    }
   ],
   "source": [
    "#返回测试集和训练集降维后的数据集\n",
    "x_train_pca1 = pca1.transform(x_train)\n",
    "x_test_pca1 = pca1.transform(x_test)\n",
    "x_train_pca2 = pca2.transform(x_train)\n",
    "x_test_pca2 = pca2.transform(x_test)\n",
    "x_train_pca3 = pca3.transform(x_train)\n",
    "x_test_pca3 = pca3.transform(x_test)\n",
    "x_train_pca4 = pca4.transform(x_train)\n",
    "x_test_pca4 = pca4.transform(x_test)\n",
    "x_train_pca5 = pca5.transform(x_train)\n",
    "x_test_pca5 = pca5.transform(x_test)\n",
    "\n",
    "print(x_train_pca1.shape)\n",
    "print(x_test_pca1.shape)"
   ]
  },
  {
   "cell_type": "code",
   "execution_count": 74,
   "metadata": {},
   "outputs": [
    {
     "data": {
      "text/plain": [
       "SVC(C=2, class_weight='balanced', kernel='linear')"
      ]
     },
     "execution_count": 74,
     "metadata": {},
     "output_type": "execute_result"
    }
   ],
   "source": [
    "svc = SVC(C = 2, kernel='linear', class_weight='balanced')\n",
    "svc.fit(x_train_pca5, y_train)\n",
    "#svc_pre = svc.predict(x_test)"
   ]
  },
  {
   "cell_type": "code",
   "execution_count": 75,
   "metadata": {},
   "outputs": [],
   "source": [
    "svc_pre = svc.predict(x_test_pca5)"
   ]
  },
  {
   "cell_type": "code",
   "execution_count": 76,
   "metadata": {},
   "outputs": [
    {
     "data": {
      "text/plain": [
       "array([ 0, 78,  2,  3,  4, 78,  6,  7,  8, 21, 10, 17, 12, 13, 14, 68, 16,\n",
       "       78, 18, 19, 20, 21, 63, 68, 42, 25, 26, 27, 28, 29, 30, 31, 73, 17,\n",
       "       34, 35, 36, 37, 38, 39, 40, 41, 42, 69, 27, 45, 28, 39, 48, 49, 50,\n",
       "       51, 68, 53, 61, 55, 64, 57, 56, 59, 60, 61, 62, 64, 64, 27, 66, 67,\n",
       "       39, 49, 70,  0, 70, 10, 74, 75, 76, 24, 78, 79, 80, 81])"
      ]
     },
     "execution_count": 76,
     "metadata": {},
     "output_type": "execute_result"
    }
   ],
   "source": [
    "svc_pre"
   ]
  },
  {
   "cell_type": "code",
   "execution_count": 77,
   "metadata": {},
   "outputs": [
    {
     "data": {
      "text/plain": [
       "array([ 0,  1,  2,  3,  4,  5,  6,  7,  8,  9, 10, 11, 12, 13, 14, 15, 16,\n",
       "       17, 18, 19, 20, 21, 22, 23, 24, 25, 26, 27, 28, 29, 30, 31, 32, 33,\n",
       "       34, 35, 36, 37, 38, 39, 40, 41, 42, 43, 44, 45, 46, 47, 48, 49, 50,\n",
       "       51, 52, 53, 54, 55, 56, 57, 58, 59, 60, 61, 62, 63, 64, 65, 66, 67,\n",
       "       68, 69, 70, 71, 72, 73, 74, 75, 76, 77, 78, 79, 80, 81])"
      ]
     },
     "execution_count": 77,
     "metadata": {},
     "output_type": "execute_result"
    }
   ],
   "source": [
    "y_test"
   ]
  },
  {
   "cell_type": "code",
   "execution_count": 89,
   "metadata": {},
   "outputs": [
    {
     "data": {
      "text/plain": [
       "0.6707317073170732"
      ]
     },
     "execution_count": 89,
     "metadata": {},
     "output_type": "execute_result"
    }
   ],
   "source": [
    "svc.score(x_test_pca5, y_test)"
   ]
  },
  {
   "cell_type": "code",
   "execution_count": 96,
   "metadata": {},
   "outputs": [],
   "source": [
    "model=cv2.face.EigenFaceRecognizer_create()\n",
    "model.train(x_train_pca5, y_train)"
   ]
  },
  {
   "cell_type": "code",
   "execution_count": 97,
   "metadata": {},
   "outputs": [],
   "source": [
    "label = []\n",
    "confidence = []\n",
    "for i in range(82):\n",
    "    j, k = model.predict(x_test_pca5[i])\n",
    "    label.append(j)\n",
    "    confidence.append(k)"
   ]
  },
  {
   "cell_type": "code",
   "execution_count": 98,
   "metadata": {},
   "outputs": [
    {
     "name": "stdout",
     "output_type": "stream",
     "text": [
      "pca5 0.6585365853658537\n"
     ]
    }
   ],
   "source": [
    "print('pca5', precision_score(y_test, label, average='micro'))"
   ]
  },
  {
   "cell_type": "code",
   "execution_count": null,
   "metadata": {},
   "outputs": [],
   "source": []
  }
 ],
 "metadata": {
  "kernelspec": {
   "display_name": "Python 3",
   "language": "python",
   "name": "python3"
  },
  "language_info": {
   "codemirror_mode": {
    "name": "ipython",
    "version": 3
   },
   "file_extension": ".py",
   "mimetype": "text/x-python",
   "name": "python",
   "nbconvert_exporter": "python",
   "pygments_lexer": "ipython3",
   "version": "3.7.6"
  }
 },
 "nbformat": 4,
 "nbformat_minor": 4
}
