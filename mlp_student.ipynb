{
 "cells": [
  {
   "cell_type": "code",
   "execution_count": 1,
   "metadata": {},
   "outputs": [],
   "source": [
    "import gzip\n",
    "import numpy as np\n",
    "import struct\n",
    "\n",
    "%matplotlib inline\n",
    "import matplotlib.pyplot as plt\n",
    "\n",
    "from sklearn.neural_network import MLPClassifier"
   ]
  },
  {
   "cell_type": "code",
   "execution_count": 2,
   "metadata": {},
   "outputs": [],
   "source": [
    "# load compressed MNIST gz files and return numpy arrays\n",
    "def load_data(filename, label=False):\n",
    "    with gzip.open(filename) as gz:\n",
    "        struct.unpack('I', gz.read(4))\n",
    "        n_items = struct.unpack('>I', gz.read(4))\n",
    "        if not label:\n",
    "            n_rows = struct.unpack('>I', gz.read(4))[0]\n",
    "            n_cols = struct.unpack('>I', gz.read(4))[0]\n",
    "            res = np.frombuffer(gz.read(n_items[0] * n_rows * n_cols), dtype=np.uint8)\n",
    "            res = res.reshape(n_items[0], n_rows * n_cols)\n",
    "        else:\n",
    "            res = np.frombuffer(gz.read(n_items[0]), dtype=np.uint8)\n",
    "            res = res.reshape(n_items[0], 1)\n",
    "    return res\n",
    "\n",
    "\n",
    "# one-hot encode a 1-D array\n",
    "def one_hot_encode(array, num_of_classes):\n",
    "    return np.eye(num_of_classes)[array.reshape(-1)]"
   ]
  },
  {
   "cell_type": "code",
   "execution_count": 3,
   "metadata": {},
   "outputs": [],
   "source": [
    "X_train = load_data(\"train-images-idx3-ubyte.gz\") / 255.0\n",
    "X_test = load_data(\"t10k-images-idx3-ubyte.gz\") / 255.0\n",
    "y_train = load_data(\"train-labels-idx1-ubyte.gz\",True).reshape(-1)\n",
    "y_test = load_data(\"t10k-labels-idx1-ubyte.gz\",True).reshape(-1)"
   ]
  },
  {
   "cell_type": "code",
   "execution_count": 6,
   "metadata": {},
   "outputs": [
    {
     "data": {
      "text/plain": [
       "array([5, 0, 4, ..., 5, 6, 8], dtype=uint8)"
      ]
     },
     "execution_count": 6,
     "metadata": {},
     "output_type": "execute_result"
    }
   ],
   "source": [
    "y_train"
   ]
  },
  {
   "cell_type": "code",
   "execution_count": 4,
   "metadata": {},
   "outputs": [
    {
     "data": {
      "image/png": "[encoded data removed]",
      "text/plain": [
       "<Figure size 1152x432 with 30 Axes>"
      ]
     },
     "metadata": {
      "needs_background": "light"
     },
     "output_type": "display_data"
    }
   ],
   "source": [
    "count = 0\n",
    "sample_size = 30\n",
    "plt.figure(figsize=(16, 6))\n",
    "for i in np.random.permutation(X_train.shape[0])[:sample_size]:\n",
    "    count = count + 1\n",
    "    plt.subplot(1, sample_size, count)\n",
    "    plt.axhline('')\n",
    "    plt.axvline('')\n",
    "    plt.text(x=10, y=-10, s=y_train[i], fontsize=18)\n",
    "    plt.imshow(X_train[i].reshape(28, 28), cmap=plt.cm.Greys)\n",
    "plt.show()"
   ]
  },
  {
   "cell_type": "code",
   "execution_count": 5,
   "metadata": {},
   "outputs": [
    {
     "name": "stdout",
     "output_type": "stream",
     "text": [
      "(60000, 784)\n",
      "(60000,)\n",
      "(10000, 784)\n",
      "(10000,)\n"
     ]
    }
   ],
   "source": [
    "print(X_train.shape, y_train.shape, X_test.shape, y_test.shape, sep = '\\n')"
   ]
  },
  {
   "cell_type": "markdown",
   "metadata": {},
   "source": [
    "### add MLPClassifier code"
   ]
  },
  {
   "cell_type": "code",
   "execution_count": 6,
   "metadata": {},
   "outputs": [],
   "source": [
    "#首先是模型需要用到的函数MLPClassifier()，函数包含很多参数，其中最重要的solver有三个，我经过测试挑选了两个，lbfgs和sgd"
   ]
  },
  {
   "cell_type": "code",
   "execution_count": 7,
   "metadata": {},
   "outputs": [],
   "source": [
    "#拟牛顿法，需要较多的迭代次数，所以max_iter默认200，两个100个节点的隐藏层\n",
    "lbfgs = MLPClassifier(solver = 'lbfgs', hidden_layer_sizes = [100,100], activation = 'relu', \n",
    "                      alpha = 1e-4, random_state = 100, verbose = 1)"
   ]
  },
  {
   "cell_type": "code",
   "execution_count": 8,
   "metadata": {},
   "outputs": [],
   "source": [
    "#基于梯度下降的自适应优化算法，分批训练数据\n",
    "sgd = MLPClassifier(solver = 'sgd', hidden_layer_sizes = [100,100], activation = 'relu', \n",
    "                    alpha = 1e-4, random_state = 100, verbose = 1, learning_rate_init = 0.1)"
   ]
  },
  {
   "cell_type": "code",
   "execution_count": 9,
   "metadata": {},
   "outputs": [
    {
     "name": "stderr",
     "output_type": "stream",
     "text": [
      "D:\\Anaconda\\lib\\site-packages\\sklearn\\neural_network\\_multilayer_perceptron.py:471: ConvergenceWarning: lbfgs failed to converge (status=1):\n",
      "STOP: TOTAL NO. of ITERATIONS REACHED LIMIT.\n",
      "\n",
      "Increase the number of iterations (max_iter) or scale the data as shown in:\n",
      "    https://scikit-learn.org/stable/modules/preprocessing.html\n",
      "  self.n_iter_ = _check_optimize_result(\"lbfgs\", opt_res, self.max_iter)\n"
     ]
    },
    {
     "data": {
      "text/plain": [
       "MLPClassifier(hidden_layer_sizes=[100, 100], random_state=100, solver='lbfgs',\n",
       "              verbose=1)"
      ]
     },
     "execution_count": 9,
     "metadata": {},
     "output_type": "execute_result"
    }
   ],
   "source": [
    "#训练模型\n",
    "lbfgs.fit(X_train, y_train)"
   ]
  },
  {
   "cell_type": "code",
   "execution_count": 10,
   "metadata": {},
   "outputs": [
    {
     "name": "stdout",
     "output_type": "stream",
     "text": [
      "Iteration 1, loss = 0.28472902\n",
      "Iteration 2, loss = 0.11167761\n",
      "Iteration 3, loss = 0.08115037\n",
      "Iteration 4, loss = 0.06247965\n",
      "Iteration 5, loss = 0.04958853\n",
      "Iteration 6, loss = 0.04138274\n",
      "Iteration 7, loss = 0.03351079\n",
      "Iteration 8, loss = 0.02792778\n",
      "Iteration 9, loss = 0.02429025\n",
      "Iteration 10, loss = 0.02075366\n",
      "Iteration 11, loss = 0.01670537\n",
      "Iteration 12, loss = 0.01469314\n",
      "Iteration 13, loss = 0.01257583\n",
      "Iteration 14, loss = 0.01021119\n",
      "Iteration 15, loss = 0.00776844\n",
      "Iteration 16, loss = 0.00705926\n",
      "Iteration 17, loss = 0.00695295\n",
      "Iteration 18, loss = 0.00775245\n",
      "Iteration 19, loss = 0.00743995\n",
      "Iteration 20, loss = 0.00797835\n",
      "Iteration 21, loss = 0.00689074\n",
      "Iteration 22, loss = 0.00490913\n",
      "Iteration 23, loss = 0.00426998\n",
      "Iteration 24, loss = 0.00299917\n",
      "Iteration 25, loss = 0.00430734\n",
      "Iteration 26, loss = 0.00472019\n",
      "Iteration 27, loss = 0.00424544\n",
      "Iteration 28, loss = 0.00798867\n",
      "Iteration 29, loss = 0.00534286\n",
      "Iteration 30, loss = 0.00224285\n",
      "Iteration 31, loss = 0.00062618\n",
      "Iteration 32, loss = 0.00056430\n",
      "Iteration 33, loss = 0.00041175\n",
      "Iteration 34, loss = 0.00039648\n",
      "Iteration 35, loss = 0.00038790\n",
      "Iteration 36, loss = 0.00038130\n",
      "Iteration 37, loss = 0.00037682\n",
      "Iteration 38, loss = 0.00037287\n",
      "Iteration 39, loss = 0.00036941\n",
      "Iteration 40, loss = 0.00036645\n",
      "Iteration 41, loss = 0.00036405\n",
      "Iteration 42, loss = 0.00036152\n",
      "Iteration 43, loss = 0.00035980\n",
      "Iteration 44, loss = 0.00035796\n",
      "Training loss did not improve more than tol=0.000100 for 10 consecutive epochs. Stopping.\n"
     ]
    },
    {
     "data": {
      "text/plain": [
       "MLPClassifier(hidden_layer_sizes=[100, 100], learning_rate_init=0.1,\n",
       "              random_state=100, solver='sgd', verbose=1)"
      ]
     },
     "execution_count": 10,
     "metadata": {},
     "output_type": "execute_result"
    }
   ],
   "source": [
    "sgd.fit(X_train, y_train)"
   ]
  },
  {
   "cell_type": "code",
   "execution_count": 11,
   "metadata": {},
   "outputs": [],
   "source": [
    "#预测\n",
    "lbfgs_predict = lbfgs.predict(X_test)\n",
    "sgd_predict = sgd.predict(X_test)"
   ]
  },
  {
   "cell_type": "code",
   "execution_count": 12,
   "metadata": {},
   "outputs": [
    {
     "name": "stdout",
     "output_type": "stream",
     "text": [
      "lbfgs在训练集准确度: 1.000000\n",
      "lbfgs在测试集准确度: 0.974800\n"
     ]
    }
   ],
   "source": [
    "print(\"lbfgs在训练集准确度: %f\" % lbfgs.score(X_train, y_train))\n",
    "print(\"lbfgs在测试集准确度: %f\" % lbfgs.score(X_test, y_test))"
   ]
  },
  {
   "cell_type": "code",
   "execution_count": 13,
   "metadata": {},
   "outputs": [
    {
     "name": "stdout",
     "output_type": "stream",
     "text": [
      "sgd在训练集准确度: 1.000000\n",
      "sgd在测试集准确度: 0.982800\n"
     ]
    }
   ],
   "source": [
    "print(\"sgd在训练集准确度: %f\" % sgd.score(X_train, y_train))\n",
    "print(\"sgd在测试集准确度: %f\" % sgd.score(X_test, y_test))"
   ]
  },
  {
   "cell_type": "code",
   "execution_count": null,
   "metadata": {},
   "outputs": [],
   "source": []
  },
  {
   "cell_type": "code",
   "execution_count": 17,
   "metadata": {},
   "outputs": [
    {
     "name": "stdout",
     "output_type": "stream",
     "text": [
      "图片中的数字是:5\n"
     ]
    }
   ],
   "source": [
    "#导入图像处理工具\n",
    "from PIL import Image\n",
    "#打开图像\n",
    "image = Image.open(\"write_5.png\").convert('F')\n",
    "#调整图像的大小\n",
    "image = image.resize((28,28))\n",
    "arr = []\n",
    "#将图像中的像素作为预测数据点的特征\n",
    "for i in range(28):\n",
    "    for j in range(28):\n",
    "        pixel = 1.0 - float(image.getpixel((j,i)))/255.\n",
    "        arr.append(pixel)\n",
    "#由于只有一个样本,所以需要进行reshape操作\n",
    "arr1 = np.array(arr).reshape(1,-1)\n",
    "#进行图像识别\n",
    "print('图片中的数字是:{:.0f}'.format(sgd.predict(arr1)[0]))"
   ]
  },
  {
   "cell_type": "code",
   "execution_count": null,
   "metadata": {},
   "outputs": [],
   "source": []
  },
  {
   "cell_type": "code",
   "execution_count": null,
   "metadata": {},
   "outputs": [],
   "source": []
  },
  {
   "cell_type": "code",
   "execution_count": null,
   "metadata": {},
   "outputs": [],
   "source": []
  },
  {
   "cell_type": "code",
   "execution_count": null,
   "metadata": {},
   "outputs": [],
   "source": []
  },
  {
   "cell_type": "code",
   "execution_count": null,
   "metadata": {},
   "outputs": [],
   "source": []
  },
  {
   "cell_type": "code",
   "execution_count": null,
   "metadata": {},
   "outputs": [],
   "source": []
  },
  {
   "cell_type": "code",
   "execution_count": null,
   "metadata": {},
   "outputs": [],
   "source": []
  },
  {
   "cell_type": "code",
   "execution_count": null,
   "metadata": {},
   "outputs": [],
   "source": []
  },
  {
   "cell_type": "code",
   "execution_count": null,
   "metadata": {},
   "outputs": [],
   "source": []
  }
 ],
 "metadata": {
  "kernelspec": {
   "display_name": "Python 3",
   "language": "python",
   "name": "python3"
  },
  "language_info": {
   "codemirror_mode": {
    "name": "ipython",
    "version": 3
   },
   "file_extension": ".py",
   "mimetype": "text/x-python",
   "name": "python",
   "nbconvert_exporter": "python",
   "pygments_lexer": "ipython3",
   "version": "3.7.6"
  }
 },
 "nbformat": 4,
 "nbformat_minor": 4
}
