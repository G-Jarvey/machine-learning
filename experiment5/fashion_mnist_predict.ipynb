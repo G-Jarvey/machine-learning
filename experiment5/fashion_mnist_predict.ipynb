{
 "cells": [
  {
   "cell_type": "code",
   "execution_count": 1,
   "metadata": {},
   "outputs": [],
   "source": [
    "import os\n",
    "import struct\n",
    "import numpy as np\n",
    "\n",
    "import tensorflow as tf\n",
    "import pandas as pd\n",
    "import numpy as np\n",
    "import time\n",
    "import datetime\n",
    "import matplotlib.pyplot as plt\n",
    "\n",
    "from sklearn.decomposition import PCA\n",
    "from sklearn import svm\n",
    "from sklearn.model_selection import train_test_split\n",
    "from sklearn.model_selection import GridSearchCV\n",
    "from sklearn.neural_network import MLPClassifier\n",
    "from sklearn.ensemble import RandomForestClassifier\n",
    "from sklearn.preprocessing import StandardScaler"
   ]
  },
  {
   "cell_type": "code",
   "execution_count": 2,
   "metadata": {},
   "outputs": [],
   "source": [
    "#定义数据读取函数\n",
    "def load_mnist(path, kind='train'):\n",
    "    \"\"\"Load MNIST data from `path`\"\"\"\n",
    "    labels_path = os.path.join(path,\n",
    "                               '%s-labels-idx1-ubyte'\n",
    "                               % kind)\n",
    "    images_path = os.path.join(path,\n",
    "                               '%s-images-idx3-ubyte'\n",
    "                               % kind)\n",
    "    with open(labels_path, 'rb') as lbpath:\n",
    "        magic, n = struct.unpack('>II',\n",
    "                                 lbpath.read(8))\n",
    "        labels = np.fromfile(lbpath,\n",
    "                             dtype=np.uint8)\n",
    "\n",
    "    with open(images_path, 'rb') as imgpath:\n",
    "        magic, num, rows, cols = struct.unpack('>IIII',\n",
    "                                               imgpath.read(16))\n",
    "        images = np.fromfile(imgpath,\n",
    "                             dtype=np.uint8).reshape(len(labels), 784)\n",
    "\n",
    "    return images, labels"
   ]
  },
  {
   "cell_type": "code",
   "execution_count": 12,
   "metadata": {},
   "outputs": [],
   "source": [
    "train_images, train_labels = load_mnist(r\"E:\\code\\jupyter\\fashion-mnist\",kind='train')\n",
    "test_images, test_labels = load_mnist(r'E:\\code\\jupyter\\fashion-mnist',kind='t10k')"
   ]
  },
  {
   "cell_type": "code",
   "execution_count": 9,
   "metadata": {},
   "outputs": [
    {
     "name": "stdout",
     "output_type": "stream",
     "text": [
      "Train set: 60000 images\n",
      "Val set: 10000 images\n",
      "\n"
     ]
    }
   ],
   "source": [
    "train_images = train_images / 255.0\n",
    "test_images = test_images / 255.0\n",
    "\n",
    "print(\"Train set: {} images\".format(len(train_images)))\n",
    "print(\"Val set: {} images\\n\".format(len(test_images)))"
   ]
  },
  {
   "cell_type": "code",
   "execution_count": 14,
   "metadata": {},
   "outputs": [
    {
     "data": {
      "text/plain": [
       "array([[0, 0, 0, ..., 0, 0, 0],\n",
       "       [0, 0, 0, ..., 0, 0, 0],\n",
       "       [0, 0, 0, ..., 0, 0, 0],\n",
       "       ...,\n",
       "       [0, 0, 0, ..., 0, 0, 0],\n",
       "       [0, 0, 0, ..., 0, 0, 0],\n",
       "       [0, 0, 0, ..., 0, 0, 0]], dtype=uint8)"
      ]
     },
     "execution_count": 14,
     "metadata": {},
     "output_type": "execute_result"
    }
   ],
   "source": [
    "train_images"
   ]
  },
  {
   "cell_type": "code",
   "execution_count": 22,
   "metadata": {},
   "outputs": [],
   "source": [
    "#特征值归一化处理\n",
    "scaler = StandardScaler()\n",
    "scaler.fit(train_images_pca)\n",
    "train_images_pca = scaler.transform(train_images_pca)\n",
    "scaler.fit(test_images_pca)\n",
    "test_images_pca = scaler.transform(test_images_pca)"
   ]
  },
  {
   "cell_type": "code",
   "execution_count": 23,
   "metadata": {},
   "outputs": [],
   "source": [
    "train_images = np.reshape(train_images, (train_images.shape[0], -1))\n",
    "test_images = np.reshape(test_images, (test_images.shape[0], -1))"
   ]
  },
  {
   "cell_type": "code",
   "execution_count": 24,
   "metadata": {},
   "outputs": [
    {
     "data": {
      "image/png": "[encoded data removed]",
      "text/plain": [
       "<Figure size 432x288 with 1 Axes>"
      ]
     },
     "metadata": {
      "needs_background": "light"
     },
     "output_type": "display_data"
    }
   ],
   "source": [
    "# 画出特征个数和所携带信息数的曲线图\n",
    "explained_variance_ratio = []\n",
    "for i in range(1,300): \n",
    "    pca = PCA(n_components=i).fit(train_images)\n",
    "    explained_variance_ratio.append(pca.explained_variance_ratio_.sum())\n",
    "plt.plot(range(1,300),explained_variance_ratio)\n",
    "plt.show()"
   ]
  },
  {
   "cell_type": "code",
   "execution_count": 25,
   "metadata": {},
   "outputs": [],
   "source": [
    "#降维\n",
    "pca = PCA(n_components = 200)\n",
    "pca.fit(train_images)\n",
    "train_images_pca = pca.transform(train_images)\n",
    "test_images_pca = pca.transform(test_images)"
   ]
  },
  {
   "cell_type": "code",
   "execution_count": 26,
   "metadata": {},
   "outputs": [],
   "source": [
    "#划分训练集和测试集\n",
    "train_x, test_x, train_y, test_y = train_test_split(train_images_pca, train_labels, random_state=1, train_size = 0.8)"
   ]
  },
  {
   "cell_type": "code",
   "execution_count": 27,
   "metadata": {},
   "outputs": [
    {
     "name": "stderr",
     "output_type": "stream",
     "text": [
      "D:\\Anaconda\\lib\\site-packages\\sklearn\\neural_network\\_multilayer_perceptron.py:471: ConvergenceWarning: lbfgs failed to converge (status=1):\n",
      "STOP: TOTAL NO. of ITERATIONS REACHED LIMIT.\n",
      "\n",
      "Increase the number of iterations (max_iter) or scale the data as shown in:\n",
      "    https://scikit-learn.org/stable/modules/preprocessing.html\n",
      "  self.n_iter_ = _check_optimize_result(\"lbfgs\", opt_res, self.max_iter)\n"
     ]
    },
    {
     "data": {
      "text/plain": [
       "RandomForestClassifier(max_depth=12, n_estimators=500, random_state=2)"
      ]
     },
     "execution_count": 27,
     "metadata": {},
     "output_type": "execute_result"
    }
   ],
   "source": [
    "svc = svm.SVC(kernel = 'rbf', C = 1)\n",
    "svc.fit(train_x, train_y)\n",
    "\n",
    "mlp = MLPClassifier(solver = 'lbfgs', activation = 'tanh', alpha = 1e-5, hidden_layer_sizes = [100, 100])\n",
    "mlp.fit(train_x, train_y)\n",
    "\n",
    "rdf = RandomForestClassifier(n_estimators = 500, max_depth = 12, random_state = 2)\n",
    "rdf.fit(train_x, train_y)"
   ]
  },
  {
   "cell_type": "code",
   "execution_count": 28,
   "metadata": {},
   "outputs": [],
   "source": [
    "result = pd.DataFrame()\n",
    "result['index'] = ['score_train', 'score_test', 'score_train_pca', 'score_test_pca']\n",
    "result['svc'] = [svc.score(train_x, train_y), svc.score(test_x, test_y), svc.score(train_images_pca, train_labels), svc.score(test_images_pca, test_labels)]\n",
    "result['mlp'] = [mlp.score(train_x, train_y), mlp.score(test_x, test_y), mlp.score(train_images_pca, train_labels), mlp.score(test_images_pca, test_labels)]\n",
    "result['rdf'] = [rdf.score(train_x, train_y), rdf.score(test_x, test_y), rdf.score(train_images_pca, train_labels), rdf.score(test_images_pca, test_labels)]"
   ]
  },
  {
   "cell_type": "code",
   "execution_count": 29,
   "metadata": {},
   "outputs": [
    {
     "data": {
      "text/html": [
       "<div>\n",
       "<style scoped>\n",
       "    .dataframe tbody tr th:only-of-type {\n",
       "        vertical-align: middle;\n",
       "    }\n",
       "\n",
       "    .dataframe tbody tr th {\n",
       "        vertical-align: top;\n",
       "    }\n",
       "\n",
       "    .dataframe thead th {\n",
       "        text-align: right;\n",
       "    }\n",
       "</style>\n",
       "<table border=\"1\" class=\"dataframe\">\n",
       "  <thead>\n",
       "    <tr style=\"text-align: right;\">\n",
       "      <th></th>\n",
       "      <th>index</th>\n",
       "      <th>svc</th>\n",
       "      <th>mlp</th>\n",
       "      <th>rdf</th>\n",
       "    </tr>\n",
       "  </thead>\n",
       "  <tbody>\n",
       "    <tr>\n",
       "      <th>0</th>\n",
       "      <td>score_train</td>\n",
       "      <td>0.916562</td>\n",
       "      <td>0.993417</td>\n",
       "      <td>0.925813</td>\n",
       "    </tr>\n",
       "    <tr>\n",
       "      <th>1</th>\n",
       "      <td>score_test</td>\n",
       "      <td>0.893417</td>\n",
       "      <td>0.877583</td>\n",
       "      <td>0.843000</td>\n",
       "    </tr>\n",
       "    <tr>\n",
       "      <th>2</th>\n",
       "      <td>score_train_pca</td>\n",
       "      <td>0.911933</td>\n",
       "      <td>0.970250</td>\n",
       "      <td>0.909250</td>\n",
       "    </tr>\n",
       "    <tr>\n",
       "      <th>3</th>\n",
       "      <td>score_test_pca</td>\n",
       "      <td>0.884400</td>\n",
       "      <td>0.869900</td>\n",
       "      <td>0.835400</td>\n",
       "    </tr>\n",
       "  </tbody>\n",
       "</table>\n",
       "</div>"
      ],
      "text/plain": [
       "             index       svc       mlp       rdf\n",
       "0      score_train  0.916562  0.993417  0.925813\n",
       "1       score_test  0.893417  0.877583  0.843000\n",
       "2  score_train_pca  0.911933  0.970250  0.909250\n",
       "3   score_test_pca  0.884400  0.869900  0.835400"
      ]
     },
     "execution_count": 29,
     "metadata": {},
     "output_type": "execute_result"
    }
   ],
   "source": [
    "result"
   ]
  },
  {
   "cell_type": "code",
   "execution_count": null,
   "metadata": {},
   "outputs": [],
   "source": []
  }
 ],
 "metadata": {
  "kernelspec": {
   "display_name": "Python 3",
   "language": "python",
   "name": "python3"
  },
  "language_info": {
   "codemirror_mode": {
    "name": "ipython",
    "version": 3
   },
   "file_extension": ".py",
   "mimetype": "text/x-python",
   "name": "python",
   "nbconvert_exporter": "python",
   "pygments_lexer": "ipython3",
   "version": "3.7.6"
  }
 },
 "nbformat": 4,
 "nbformat_minor": 4
}
